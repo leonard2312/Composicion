{
  "nbformat": 4,
  "nbformat_minor": 0,
  "metadata": {
    "colab": {
      "name": "Arboles.ipynb",
      "provenance": [],
      "authorship_tag": "ABX9TyOixIhgLoeK2Ei4AHo95DhJ",
      "include_colab_link": true
    },
    "kernelspec": {
      "name": "python3",
      "display_name": "Python 3"
    },
    "language_info": {
      "name": "python"
    }
  },
  "cells": [
    {
      "cell_type": "markdown",
      "metadata": {
        "id": "view-in-github",
        "colab_type": "text"
      },
      "source": [
        "<a href=\"https://colab.research.google.com/github/leonard2312/Composicion/blob/master/Arboles.ipynb\" target=\"_parent\"><img src=\"https://colab.research.google.com/assets/colab-badge.svg\" alt=\"Open In Colab\"/></a>"
      ]
    },
    {
      "cell_type": "code",
      "metadata": {
        "id": "mCiahNDxt3W4"
      },
      "source": [
        "class BinaryNode:\n",
        "  def __init__(self,value,left=None,rigth=None):\n",
        "    self.data = value\n",
        "    self.left = left\n",
        "    self.rigth = rigth\n",
        "\n",
        "class TernaryNode:\n",
        "  def __init__(self,value,left=None,center=None,rigth=None):\n",
        "    self.data = value\n",
        "    self.left = left\n",
        "    self.center = center\n",
        "    self.rigth = rigth"
      ],
      "execution_count": 19,
      "outputs": []
    },
    {
      "cell_type": "code",
      "metadata": {
        "colab": {
          "base_uri": "https://localhost:8080/"
        },
        "id": "ETpt-VRXvHWv",
        "outputId": "0cf95e19-f489-4fbe-8646-7e0b71e6103f"
      },
      "source": [
        "root = BinaryNode(\"R\",BinaryNode(\"C\",BinaryNode(\"H\")))\n",
        "print(root.left.data)"
      ],
      "execution_count": 20,
      "outputs": [
        {
          "output_type": "stream",
          "name": "stdout",
          "text": [
            "C\n"
          ]
        }
      ]
    },
    {
      "cell_type": "code",
      "metadata": {
        "colab": {
          "base_uri": "https://localhost:8080/"
        },
        "id": "XwaFCA7CwOXA",
        "outputId": "ddb43ce9-bc70-4279-f24d-cd2873b8c79b"
      },
      "source": [
        "root = TernaryNode(4,TernaryNode(3,TernaryNode(5,left=TernaryNode(2)),\\\n",
        "                   TernaryNode(5),TernaryNode(2)), None, TernaryNode(5) )\n",
        "\n",
        "print(root.left.left.left.data)\n",
        "print(\".-.-.-.\")\n",
        "aux = root\n",
        "while aux.left != None:\n",
        "  aux = aux.left\n",
        "\n",
        "print(aux.data)\n",
        "print(\".-.-.-.\")\n",
        "\n",
        "print(root.left.rigth.data)"
      ],
      "execution_count": 24,
      "outputs": [
        {
          "output_type": "stream",
          "name": "stdout",
          "text": [
            "2\n",
            ".-.-.-.\n",
            "2\n",
            ".-.-.-.\n",
            "2\n"
          ]
        }
      ]
    },
    {
      "cell_type": "code",
      "metadata": {
        "colab": {
          "base_uri": "https://localhost:8080/"
        },
        "id": "uR8Ll5Jd5gHD",
        "outputId": "dddfe8cb-406f-4f08-ecb5-0f61cab453f7"
      },
      "source": [
        "root = BinaryNode(\"Santi\",None,BinaryNode(\"Jesus\",BinaryNode(\"Pedro\",None,BinaryNode(\"PedroJr\"))))\n",
        "\n",
        "print(root.rigth.left.rigth.data)"
      ],
      "execution_count": 26,
      "outputs": [
        {
          "output_type": "stream",
          "name": "stdout",
          "text": [
            "PedroJr\n"
          ]
        }
      ]
    }
  ]
}